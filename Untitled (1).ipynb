{
 "cells": [
  {
   "cell_type": "code",
   "execution_count": 3,
   "id": "4edb256e-af1a-4593-b55b-bdd83729605f",
   "metadata": {},
   "outputs": [],
   "source": [
    "import numpy as np\n",
    "from obspy import read\n",
    "from devito import *\n",
    "from examples.seismic import Model, TimeAxis, RickerSource, plot_velocity"
   ]
  },
  {
   "cell_type": "code",
   "execution_count": 4,
   "id": "78d640a6-8075-45ea-9d31-e83effc35c9f",
   "metadata": {},
   "outputs": [],
   "source": [
    "def load_sac_data(sac_file):\n",
    "    \"\"\"\n",
    "    Load SAC file and return time series data and metadata\n",
    "    \"\"\"\n",
    "    st = read(sac_file)\n",
    "    tr = st[0]\n",
    "    \n",
    "    # Extract key information\n",
    "    data = tr.data\n",
    "    dt = tr.stats.delta  # sampling interval\n",
    "    t0 = tr.stats.starttime\n",
    "    \n",
    "    return data, dt, t0"
   ]
  },
  {
   "cell_type": "code",
   "execution_count": 5,
   "id": "cdfcf957-756e-4fc2-9269-f2d87db9018a",
   "metadata": {},
   "outputs": [],
   "source": [
    "def receivers(sac_files, model):\n",
    "    \"\"\"\n",
    "    Create Devito receiver coordinates and data from SAC files\n",
    "    \"\"\"\n",
    "    # Initialize lists for receiver data\n",
    "    max_length = 0\n",
    "    all_data = []\n",
    "    rec_coords = []\n",
    "    \n",
    "    for sac_file in sac_files:\n",
    "        data, dt, _ = load_sac_data(sac_file)\n",
    "        max_length = max(max_length, len(data))\n",
    "        all_data.append(data)\n",
    "        \n",
    "        st = read(sac_file)[0]\n",
    "        # Get station coordinates (assuming they're in SAC headers)\n",
    "        x_coord = st.stats.sac.stla  # latitude as x coordinate\n",
    "        z_coord = st.stats.sac.stel  # elevation as z coordinate\n",
    "        rec_coords.append([x_coord, z_coord])\n",
    "\n",
    "    # Second pass: pad all data to max_length\n",
    "    padded_data = []\n",
    "    for data in all_data:\n",
    "        if len(data) < max_length:\n",
    "            # Pad with zeros at the end\n",
    "            padded = np.pad(data, (0, max_length - len(data)), mode='constant', constant_values=0)\n",
    "            padded_data.append(padded)\n",
    "        else:\n",
    "            padded_data.append(data)\n",
    "    \n",
    "    # Convert to numpy arrays\n",
    "    rec_data = np.array(padded_data)\n",
    "    rec_coords = np.array(rec_coords)\n",
    "    \n",
    "    return rec_data, rec_coords"
   ]
  },
  {
   "cell_type": "code",
   "execution_count": 6,
   "id": "885bbc13-7b36-40ad-bb66-724eb129ea56",
   "metadata": {},
   "outputs": [],
   "source": [
    "def setup_devito_fwi(model_params, sac_files):\n",
    "    \"\"\"\n",
    "    Set up Devito FWI problem using SAC data\n",
    "    \"\"\"\n",
    "    # Create velocity model\n",
    "    shape = model_params['shape']\n",
    "    spacing = model_params['spacing']\n",
    "    origin = model_params['origin']\n",
    "    v = model_params['velocity']\n",
    "    \n",
    "    # Initialize model\n",
    "    model = Model(vp=v, origin=origin, shape=shape, spacing=spacing, space_order=4)\n",
    "    \n",
    "    # Load and prepare receiver data\n",
    "    rec_data, rec_coords = receivers(sac_files, model)\n",
    "    \n",
    "    # Time axis\n",
    "    t0 = 0.\n",
    "    tn = rec_data.shape[1] * model_params['dt']\n",
    "    time_range = TimeAxis(start=t0, stop=tn, step=model_params['dt'])\n",
    "    \n",
    "    # Set up receivers\n",
    "    rec = Receiver(name='rec', grid=model.grid, time_range=time_range,\n",
    "                  coordinates=rec_coords)\n",
    "    \n",
    "    # Set up source (assuming single source)\n",
    "    src = RickerSource(name='src', grid=model.grid, f0=50, time_range=time_range,\n",
    "                coordinates=model_params['source_coords'])\n",
    "    \n",
    "    solver = setup_solver(model, src, rec)  # You'll need to implement this\n",
    "      \n",
    "    return model, src, rec, observed_data, solver"
   ]
  },
  {
   "cell_type": "code",
   "execution_count": 7,
   "id": "df87a70b-d7d5-4c06-8bfe-1a04f3d06ad8",
   "metadata": {},
   "outputs": [],
   "source": [
    "def setup_solver(model, src, rec):\n",
    "    \"\"\"\n",
    "    Set up wave equation solver for FWI using Devito\n",
    "    \n",
    "    Parameters:\n",
    "    -----------\n",
    "    model : devito.Model\n",
    "        Velocity model\n",
    "    src : devito.Source\n",
    "        Source term\n",
    "    rec : devito.Receiver\n",
    "        Receiver configuration\n",
    "    \"\"\"\n",
    "    # Create solution with two time dimensions\n",
    "    u = TimeFunction(name='u', grid=model.grid,\n",
    "                    time_order=2, space_order=4,\n",
    "                    save=rec.time_range.num)\n",
    "    \n",
    "    # Create adjoint field\n",
    "    v = TimeFunction(name='v', grid=model.grid,\n",
    "                    time_order=2, space_order=4,\n",
    "                    save=None)\n",
    "    \n",
    "    # Create stencil expressions for wave equation\n",
    "    pde = model.m * u.dt2 - u.laplace + model.damp * u.dt\n",
    "    stencil = Eq(u.forward, solve(pde, u.forward))\n",
    "    \n",
    "    # Source injection\n",
    "    src_term = src.inject(field=u.forward,\n",
    "                         expr=src * model.m)\n",
    "    \n",
    "    # Create receivers\n",
    "    rec_term = rec.interpolate(expr=u)\n",
    "    \n",
    "    # Create forward operator\n",
    "    op_forward = Operator([stencil] + src_term + rec_term,\n",
    "                         subs=model.spacing_map,\n",
    "                         name='forward')\n",
    "    \n",
    "    # Adjoint wavefield equations\n",
    "    pde_adj = model.m * v.dt2 - v.laplace + model.damp * v.dt\n",
    "    stencil_adj = Eq(v.backward, solve(pde_adj, v.backward))\n",
    "    \n",
    "    # Receiver injection for adjoint\n",
    "    rec_term_adj = rec.inject(field=v.backward, expr=rec * model.m)\n",
    "    \n",
    "    # Create gradient expression\n",
    "    grad = Function(name='grad', grid=model.grid)\n",
    "    gradientupdate = Eq(grad, grad - u * v.dt2)\n",
    "    \n",
    "    # Create gradient operator\n",
    "    op_gradient = Operator([stencil_adj] + rec_term_adj + [gradientupdate],\n",
    "                         subs=model.spacing_map,\n",
    "                         name='gradient')\n",
    "    \n",
    "    # Create solver object with both operators\n",
    "    class Solver:\n",
    "        def __init__(self, forward, gradient):\n",
    "            self.forward = forward\n",
    "            self.gradient = gradient\n",
    "    \n",
    "    return Solver(op_forward, op_gradient)"
   ]
  },
  {
   "cell_type": "code",
   "execution_count": 8,
   "id": "0bcf75ef-9df5-4037-9cec-8acc8d998da6",
   "metadata": {},
   "outputs": [],
   "source": [
    "def run_fwi_optimization(model_params, sac_files, n_iterations=10):\n",
    "    \"\"\"\n",
    "    Run FWI optimization loop\n",
    "    \"\"\"\n",
    "    # Setup initial problem\n",
    "    model, src, rec, observed_data, solver = setup_devito_fwi(model_params, sac_files)\n",
    "    \n",
    "    # Initial velocity model\n",
    "    vp = model_params['velocity'].copy()\n",
    "    \n",
    "    # Optimization loop\n",
    "    for i in range(n_iterations):\n",
    "        # Compute objective and gradient\n",
    "        obj, grad = fwi_gradient(vp, model, solver, src, rec, observed_data)\n",
    "        \n",
    "        # Simple gradient descent (you might want to use L-BFGS or other methods)\n",
    "        step_length = 1e-6  # Adjust this based on your problem\n",
    "        vp = vp - step_length * grad.data\n",
    "        \n",
    "        print(f\"Iteration {i+1}/{n_iterations}, Objective: {obj}\")\n",
    "    \n",
    "    return vp"
   ]
  },
  {
   "cell_type": "code",
   "execution_count": 9,
   "id": "3d88f6d0-36ce-40dc-9ec6-dff0dcd56a55",
   "metadata": {},
   "outputs": [],
   "source": [
    "def objective_function(model, src, rec, observed_data):\n",
    "    \"\"\"\n",
    "    Define FWI objective function\n",
    "    \"\"\"\n",
    "    # Forward modeling operator\n",
    "    op_forward = Forward(model, src, rec)\n",
    "    \n",
    "    # Compute synthetic data\n",
    "    synthetic = op_forward()\n",
    "    \n",
    "    # Compute misfit\n",
    "    residual = synthetic - observed_data\n",
    "    f = 0.5 * np.sum(residual ** 2)\n",
    "    \n",
    "    return f, residual"
   ]
  },
  {
   "cell_type": "code",
   "execution_count": 10,
   "id": "836b4918-14e8-4bc8-9d02-dc21f02ad863",
   "metadata": {},
   "outputs": [],
   "source": [
    "sac_files = ['2019-06-10T102432_KYRGYZSTAN.7A.G01..HHZ.sac', '2019-06-10T102432_KYRGYZSTAN.7A.G02..HHZ.sac', '2019-06-10T102432_KYRGYZSTAN.7A.G05..HHZ.sac',\n",
    "             '2019-06-10T102432_KYRGYZSTAN.7A.G06..HHZ.sac', '2019-06-10T102432_KYRGYZSTAN.7A.G09..HHZ.sac', '2019-06-10T102432_KYRGYZSTAN.7A.G11..HHZ.sac']"
   ]
  },
  {
   "cell_type": "code",
   "execution_count": 11,
   "id": "c15147e6-b698-41fc-9789-7df4d5c878cf",
   "metadata": {},
   "outputs": [],
   "source": [
    "model_params = {\n",
    "        'shape': (101, 101),\n",
    "        'spacing': (10., 10.),\n",
    "        'origin': (0., 0.),\n",
    "        'velocity': np.ones((101, 101)) * 2000.,  # Initial velocity model\n",
    "        'dt': 0.004,\n",
    "        'source_coords': np.array([(500., 0.)])  # Single source example\n",
    "    }"
   ]
  },
  {
   "cell_type": "code",
   "execution_count": 16,
   "id": "b4555045-13ad-41ae-8cd7-c105aba65179",
   "metadata": {},
   "outputs": [],
   "source": [
    "def setup_solver(model, src, rec):\n",
    "    \"\"\"\n",
    "    Set up wave equation solver for FWI using Devito\n",
    "    \n",
    "    Parameters:\n",
    "    -----------\n",
    "    model : devito.Model\n",
    "        Velocity model\n",
    "    src : devito.Source\n",
    "        Source term\n",
    "    rec : devito.Receiver\n",
    "        Receiver configuration\n",
    "    \"\"\"\n",
    "    # Create solution with two time dimensions\n",
    "    u = TimeFunction(name='u', grid=model.grid,\n",
    "                    time_order=2, space_order=4,\n",
    "                    save=rec.time_range.num)\n",
    "    \n",
    "    # Create adjoint field\n",
    "    v = TimeFunction(name='v', grid=model.grid,\n",
    "                    time_order=2, space_order=4,\n",
    "                    save=None)\n",
    "    \n",
    "    # Create stencil expressions for wave equation\n",
    "    pde = model.m * u.dt2 - u.laplace + model.damp * u.dt\n",
    "    stencil = Eq(u.forward, solve(pde, u.forward))\n",
    "    \n",
    "    # Source injection\n",
    "    src_term = src.inject(field=u.forward,\n",
    "                         expr=src * model.m)\n",
    "    \n",
    "    # Create receivers\n",
    "    rec_term = rec.interpolate(expr=u)\n",
    "    \n",
    "    # Create forward operator\n",
    "    op_forward = Operator([stencil] + src_term + rec_term,\n",
    "                         subs=model.spacing_map,\n",
    "                         name='forward')\n",
    "    \n",
    "    # Adjoint wavefield equations\n",
    "    pde_adj = model.m * v.dt2 - v.laplace + model.damp * v.dt\n",
    "    stencil_adj = Eq(v.backward, solve(pde_adj, v.backward))\n",
    "    \n",
    "    # Receiver injection for adjoint\n",
    "    rec_term_adj = rec.inject(field=v.backward, expr=rec * model.m)\n",
    "    \n",
    "    # Create gradient expression\n",
    "    grad = Function(name='grad', grid=model.grid)\n",
    "    gradientupdate = Eq(grad, grad - u * v.dt2)\n",
    "    \n",
    "    # Create gradient operator\n",
    "    op_gradient = Operator([stencil_adj] + rec_term_adj + [gradientupdate],\n",
    "                         subs=model.spacing_map,\n",
    "                         name='gradient')\n",
    "    class Solver:\n",
    "        def __init__(self, forward, gradient):\n",
    "            self.forward = forward\n",
    "            self.gradient = gradient\n",
    "    \n",
    "    return Solver(op_forward, op_gradient)\n"
   ]
  },
  {
   "cell_type": "code",
   "execution_count": 12,
   "id": "18dec4dc-2a74-4ab8-bfaf-1238dc328b4a",
   "metadata": {},
   "outputs": [
    {
     "name": "stderr",
     "output_type": "stream",
     "text": [
      "Operator `initdamp` ran in 0.01 s\n"
     ]
    },
    {
     "ename": "NameError",
     "evalue": "name 'observed_data' is not defined",
     "output_type": "error",
     "traceback": [
      "\u001b[0;31m---------------------------------------------------------------------------\u001b[0m",
      "\u001b[0;31mNameError\u001b[0m                                 Traceback (most recent call last)",
      "Cell \u001b[0;32mIn[12], line 1\u001b[0m\n\u001b[0;32m----> 1\u001b[0m model, src, rec, observed_data \u001b[38;5;241m=\u001b[39m \u001b[43msetup_devito_fwi\u001b[49m\u001b[43m(\u001b[49m\u001b[43mmodel_params\u001b[49m\u001b[43m,\u001b[49m\u001b[43m \u001b[49m\u001b[43msac_files\u001b[49m\u001b[43m)\u001b[49m\n",
      "Cell \u001b[0;32mIn[6], line 32\u001b[0m, in \u001b[0;36msetup_devito_fwi\u001b[0;34m(model_params, sac_files)\u001b[0m\n\u001b[1;32m     27\u001b[0m src \u001b[38;5;241m=\u001b[39m RickerSource(name\u001b[38;5;241m=\u001b[39m\u001b[38;5;124m'\u001b[39m\u001b[38;5;124msrc\u001b[39m\u001b[38;5;124m'\u001b[39m, grid\u001b[38;5;241m=\u001b[39mmodel\u001b[38;5;241m.\u001b[39mgrid, f0\u001b[38;5;241m=\u001b[39m\u001b[38;5;241m50\u001b[39m, time_range\u001b[38;5;241m=\u001b[39mtime_range,\n\u001b[1;32m     28\u001b[0m             coordinates\u001b[38;5;241m=\u001b[39mmodel_params[\u001b[38;5;124m'\u001b[39m\u001b[38;5;124msource_coords\u001b[39m\u001b[38;5;124m'\u001b[39m])\n\u001b[1;32m     30\u001b[0m solver \u001b[38;5;241m=\u001b[39m setup_solver(model, src, rec)  \u001b[38;5;66;03m# You'll need to implement this\u001b[39;00m\n\u001b[0;32m---> 32\u001b[0m \u001b[38;5;28;01mreturn\u001b[39;00m model, src, rec, \u001b[43mobserved_data\u001b[49m, solver\n",
      "\u001b[0;31mNameError\u001b[0m: name 'observed_data' is not defined"
     ]
    }
   ],
   "source": [
    "model, src, rec, observed_data = setup_devito_fwi(model_params, sac_files)"
   ]
  },
  {
   "cell_type": "code",
   "execution_count": 152,
   "id": "93b3d6b0-d1f5-4c57-8811-6b906672fa27",
   "metadata": {},
   "outputs": [
    {
     "data": {
      "text/plain": [
       "Data([[0., 0., 0., 0., 0., 0.],\n",
       "      [0., 0., 0., 0., 0., 0.],\n",
       "      [0., 0., 0., 0., 0., 0.],\n",
       "      ...,\n",
       "      [0., 0., 0., 0., 0., 0.],\n",
       "      [0., 0., 0., 0., 0., 0.],\n",
       "      [0., 0., 0., 0., 0., 0.]], dtype=float32)"
      ]
     },
     "execution_count": 152,
     "metadata": {},
     "output_type": "execute_result"
    }
   ],
   "source": [
    "rec.data"
   ]
  },
  {
   "cell_type": "code",
   "execution_count": 21,
   "id": "1e44336f-9a0c-4ad4-b64e-2bfe4486e016",
   "metadata": {},
   "outputs": [],
   "source": [
    "# Create FWI gradient kernel \n",
    "from devito import Function, TimeFunction, norm\n",
    "from examples.seismic import Receiver\n",
    "\n",
    "import scipy\n",
    "def fwi_gradient(vp_in, model, solver, src, rec, observed_data):\n",
    "   \n",
    "    # Create symbol to hold the gradient\n",
    "    grad = Function(name=\"grad\", grid=model.grid)\n",
    "    \n",
    "    # Create receivers for synthetic data and residual\n",
    "    residual = Receiver(name='residual', grid=model.grid,\n",
    "                       time_range=rec.time_range,\n",
    "                       coordinates=rec.coordinates.data)\n",
    "    \n",
    "    d_syn = Receiver(name='d_syn', grid=model.grid,\n",
    "                    time_range=rec.time_range,\n",
    "                    coordinates=rec.coordinates.data)\n",
    "    \n",
    "    # Initialize objective function\n",
    "    objective = 0.\n",
    "    \n",
    "    # Forward simulation with current velocity model\n",
    "    u = TimeFunction(name='u', grid=model.grid,\n",
    "                    time_order=2, space_order=4,\n",
    "                    save=rec.time_range.num)\n",
    "    \n",
    "    # Forward simulation with current velocity model\n",
    "    solver.forward.apply(vp=vp_in, u=u, src=src, rec=d_syn)\n",
    "    \n",
    "    # Compute residual\n",
    "    residual.data[:] = d_syn.data[:] - observed_data\n",
    "    \n",
    "    # Update objective function\n",
    "    objective = 0.5 * norm(residual)**2\n",
    "    \n",
    "    # Compute gradient\n",
    "    grad.data[:] = 0.  # Reset gradient\n",
    "    solver.gradient.apply(u=u, v=TimeFunction(name='v', grid=model.grid,\n",
    "                                            time_order=2, space_order=4),\n",
    "                        vp=vp_in, grad=grad, rec=residual)\n",
    "    \n",
    "    return objective, grad"
   ]
  },
  {
   "cell_type": "code",
   "execution_count": 19,
   "id": "31549de6-0f1d-4b44-81a3-33f50c54aee3",
   "metadata": {},
   "outputs": [
    {
     "name": "stderr",
     "output_type": "stream",
     "text": [
      "Operator `initdamp` ran in 0.01 s\n"
     ]
    },
    {
     "ename": "NameError",
     "evalue": "name 'observed_data' is not defined",
     "output_type": "error",
     "traceback": [
      "\u001b[0;31m---------------------------------------------------------------------------\u001b[0m",
      "\u001b[0;31mNameError\u001b[0m                                 Traceback (most recent call last)",
      "Cell \u001b[0;32mIn[19], line 1\u001b[0m\n\u001b[0;32m----> 1\u001b[0m final_velocity \u001b[38;5;241m=\u001b[39m \u001b[43mrun_fwi_optimization\u001b[49m\u001b[43m(\u001b[49m\u001b[43mmodel_params\u001b[49m\u001b[43m,\u001b[49m\u001b[43m \u001b[49m\u001b[43msac_files\u001b[49m\u001b[43m)\u001b[49m\n",
      "Cell \u001b[0;32mIn[8], line 6\u001b[0m, in \u001b[0;36mrun_fwi_optimization\u001b[0;34m(model_params, sac_files, n_iterations)\u001b[0m\n\u001b[1;32m      2\u001b[0m \u001b[38;5;250m\u001b[39m\u001b[38;5;124;03m\"\"\"\u001b[39;00m\n\u001b[1;32m      3\u001b[0m \u001b[38;5;124;03mRun FWI optimization loop\u001b[39;00m\n\u001b[1;32m      4\u001b[0m \u001b[38;5;124;03m\"\"\"\u001b[39;00m\n\u001b[1;32m      5\u001b[0m \u001b[38;5;66;03m# Setup initial problem\u001b[39;00m\n\u001b[0;32m----> 6\u001b[0m model, src, rec, observed_data, solver \u001b[38;5;241m=\u001b[39m \u001b[43msetup_devito_fwi\u001b[49m\u001b[43m(\u001b[49m\u001b[43mmodel_params\u001b[49m\u001b[43m,\u001b[49m\u001b[43m \u001b[49m\u001b[43msac_files\u001b[49m\u001b[43m)\u001b[49m\n\u001b[1;32m      8\u001b[0m \u001b[38;5;66;03m# Initial velocity model\u001b[39;00m\n\u001b[1;32m      9\u001b[0m vp \u001b[38;5;241m=\u001b[39m model_params[\u001b[38;5;124m'\u001b[39m\u001b[38;5;124mvelocity\u001b[39m\u001b[38;5;124m'\u001b[39m]\u001b[38;5;241m.\u001b[39mcopy()\n",
      "Cell \u001b[0;32mIn[6], line 32\u001b[0m, in \u001b[0;36msetup_devito_fwi\u001b[0;34m(model_params, sac_files)\u001b[0m\n\u001b[1;32m     27\u001b[0m src \u001b[38;5;241m=\u001b[39m RickerSource(name\u001b[38;5;241m=\u001b[39m\u001b[38;5;124m'\u001b[39m\u001b[38;5;124msrc\u001b[39m\u001b[38;5;124m'\u001b[39m, grid\u001b[38;5;241m=\u001b[39mmodel\u001b[38;5;241m.\u001b[39mgrid, f0\u001b[38;5;241m=\u001b[39m\u001b[38;5;241m50\u001b[39m, time_range\u001b[38;5;241m=\u001b[39mtime_range,\n\u001b[1;32m     28\u001b[0m             coordinates\u001b[38;5;241m=\u001b[39mmodel_params[\u001b[38;5;124m'\u001b[39m\u001b[38;5;124msource_coords\u001b[39m\u001b[38;5;124m'\u001b[39m])\n\u001b[1;32m     30\u001b[0m solver \u001b[38;5;241m=\u001b[39m setup_solver(model, src, rec)  \u001b[38;5;66;03m# You'll need to implement this\u001b[39;00m\n\u001b[0;32m---> 32\u001b[0m \u001b[38;5;28;01mreturn\u001b[39;00m model, src, rec, \u001b[43mobserved_data\u001b[49m, solver\n",
      "\u001b[0;31mNameError\u001b[0m: name 'observed_data' is not defined"
     ]
    }
   ],
   "source": [
    "final_velocity = run_fwi_optimization(model_params, sac_files)"
   ]
  },
  {
   "cell_type": "code",
   "execution_count": 20,
   "id": "9ac4816f-4079-45f3-a47b-104a5e6b1e0c",
   "metadata": {},
   "outputs": [
    {
     "name": "stderr",
     "output_type": "stream",
     "text": [
      "Operator `initdamp` ran in 0.01 s\n"
     ]
    },
    {
     "ename": "NameError",
     "evalue": "name 'observed_data' is not defined",
     "output_type": "error",
     "traceback": [
      "\u001b[0;31m---------------------------------------------------------------------------\u001b[0m",
      "\u001b[0;31mNameError\u001b[0m                                 Traceback (most recent call last)",
      "Cell \u001b[0;32mIn[20], line 1\u001b[0m\n\u001b[0;32m----> 1\u001b[0m model, src, rec, observed_data \u001b[38;5;241m=\u001b[39m \u001b[43msetup_devito_fwi\u001b[49m\u001b[43m(\u001b[49m\u001b[43mmodel_params\u001b[49m\u001b[43m,\u001b[49m\u001b[43m \u001b[49m\u001b[43msac_files\u001b[49m\u001b[43m)\u001b[49m\n\u001b[1;32m      2\u001b[0m solver \u001b[38;5;241m=\u001b[39m setup_solver(model, src, rec)\n",
      "Cell \u001b[0;32mIn[6], line 32\u001b[0m, in \u001b[0;36msetup_devito_fwi\u001b[0;34m(model_params, sac_files)\u001b[0m\n\u001b[1;32m     27\u001b[0m src \u001b[38;5;241m=\u001b[39m RickerSource(name\u001b[38;5;241m=\u001b[39m\u001b[38;5;124m'\u001b[39m\u001b[38;5;124msrc\u001b[39m\u001b[38;5;124m'\u001b[39m, grid\u001b[38;5;241m=\u001b[39mmodel\u001b[38;5;241m.\u001b[39mgrid, f0\u001b[38;5;241m=\u001b[39m\u001b[38;5;241m50\u001b[39m, time_range\u001b[38;5;241m=\u001b[39mtime_range,\n\u001b[1;32m     28\u001b[0m             coordinates\u001b[38;5;241m=\u001b[39mmodel_params[\u001b[38;5;124m'\u001b[39m\u001b[38;5;124msource_coords\u001b[39m\u001b[38;5;124m'\u001b[39m])\n\u001b[1;32m     30\u001b[0m solver \u001b[38;5;241m=\u001b[39m setup_solver(model, src, rec)  \u001b[38;5;66;03m# You'll need to implement this\u001b[39;00m\n\u001b[0;32m---> 32\u001b[0m \u001b[38;5;28;01mreturn\u001b[39;00m model, src, rec, \u001b[43mobserved_data\u001b[49m, solver\n",
      "\u001b[0;31mNameError\u001b[0m: name 'observed_data' is not defined"
     ]
    }
   ],
   "source": [
    "model, src, rec, observed_data = setup_devito_fwi(model_params, sac_files)\n",
    "solver = setup_solver(model, src, rec)"
   ]
  },
  {
   "cell_type": "code",
   "execution_count": null,
   "id": "6737061e-8a75-4777-b8d7-345bb2014965",
   "metadata": {},
   "outputs": [],
   "source": []
  }
 ],
 "metadata": {
  "kernelspec": {
   "display_name": "Python 3 (ipykernel)",
   "language": "python",
   "name": "python3"
  },
  "language_info": {
   "codemirror_mode": {
    "name": "ipython",
    "version": 3
   },
   "file_extension": ".py",
   "mimetype": "text/x-python",
   "name": "python",
   "nbconvert_exporter": "python",
   "pygments_lexer": "ipython3",
   "version": "3.10.12"
  }
 },
 "nbformat": 4,
 "nbformat_minor": 5
}
